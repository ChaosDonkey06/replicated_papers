{
 "cells": [
  {
   "attachments": {},
   "cell_type": "markdown",
   "metadata": {},
   "source": [
    "*Long-term benefits of nonpharmaceutical interventions for endemic infections are shaped by respiratory pathogen dynamics*\n",
    "\n",
    "Rachel E. Baker, Chadi M. Saad-Roy, Sang Woo Park, Jeremy Farrar, C. Jessica E. Metcalf, and Bryan T. Grenfell\n",
    "\n",
    "\n",
    "The authors start asking the effect of NPIs efforts applied during the 2020 and ongoing (2023 now) SARS2 pandemic in respiratory infections. They use influenza and RSV as contrasting pathogens with low and high basic reproductive number $R_0$ respectively and with rapid immune escape (SIRS dynamics) and completely immunizing (SIR dynamics)."
   ]
  },
  {
   "cell_type": "code",
   "execution_count": 1,
   "metadata": {},
   "outputs": [],
   "source": [
    "import jax.numpy as np\n",
    "from jax import grad, jit, vmap\n",
    "\n",
    "\n",
    "def sirs(x, t, p):\n",
    "    s, i, r = x\n",
    "\n",
    "    β = p[\"beta\"]\n",
    "    γ = p[\"gamma\"]\n",
    "    ω = p[\"omega\"]\n",
    "    μ = p[\"mu\"]\n",
    "    N = p[\"N\"]\n",
    "\n",
    "    λ = β * i / N\n",
    "\n",
    "    births  = μ * N\n",
    "    s2death = μ * s\n",
    "    i2death = μ * i\n",
    "    r2death = μ * r\n",
    "\n",
    "    s2i = λ * s\n",
    "    i2r = γ * i\n",
    "    r2s = ω * r\n",
    "\n",
    "    sdot = -s2i + r2s - s2death + births\n",
    "    idot = s2i  - i2r - i2death\n",
    "    rdot = i2r  - r2s - r2death\n",
    "\n",
    "    return np.array([sdot, idot, rdot])\n"
   ]
  },
  {
   "cell_type": "code",
   "execution_count": null,
   "metadata": {},
   "outputs": [],
   "source": []
  }
 ],
 "metadata": {
  "kernelspec": {
   "display_name": "pompjax",
   "language": "python",
   "name": "python3"
  },
  "language_info": {
   "codemirror_mode": {
    "name": "ipython",
    "version": 3
   },
   "file_extension": ".py",
   "mimetype": "text/x-python",
   "name": "python",
   "nbconvert_exporter": "python",
   "pygments_lexer": "ipython3",
   "version": "3.8.13"
  },
  "orig_nbformat": 4,
  "vscode": {
   "interpreter": {
    "hash": "e23b8103492689b0d9748b47018d3861a561878402e3a1e7a565e9dcb2ea3867"
   }
  }
 },
 "nbformat": 4,
 "nbformat_minor": 2
}
