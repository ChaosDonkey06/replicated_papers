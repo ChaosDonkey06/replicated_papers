{
 "cells": [
  {
   "attachments": {},
   "cell_type": "markdown",
   "metadata": {},
   "source": [
    "*Long-term benefits of nonpharmaceutical interventions for endemic infections are shaped by respiratory pathogen dynamics*\n",
    "\n",
    "Rachel E. Baker, Chadi M. Saad-Roy, Sang Woo Park, Jeremy Farrar, C. Jessica E. Metcalf, and Bryan T. Grenfell\n",
    "\n",
    "\n",
    "The authors start asking the effect of NPIs efforts applied during the 2020 and ongoing (2023 now) SARS2 pandemic in respiratory infections. They use influenza and RSV as contrasting pathogens with low and high basic reproductive number $R_0$ respectively and with rapid immune escape (SIRS dynamics) and completely immunizing (SIR dynamics). "
   ]
  },
  {
   "cell_type": "code",
   "execution_count": 1,
   "metadata": {},
   "outputs": [
    {
     "ename": "ImportError",
     "evalue": "cannot import name 'pocketfft' from 'jaxlib' (/Users/chaosdonkey06/anaconda3/lib/python3.8/site-packages/jaxlib/__init__.py)",
     "output_type": "error",
     "traceback": [
      "\u001b[0;31m---------------------------------------------------------------------------\u001b[0m",
      "\u001b[0;31mImportError\u001b[0m                               Traceback (most recent call last)",
      "\u001b[0;32m/var/folders/7p/jp6xqkvn5wb6ddl1fn0bhs980000gn/T/ipykernel_9135/3259545180.py\u001b[0m in \u001b[0;36m<module>\u001b[0;34m\u001b[0m\n\u001b[0;32m----> 1\u001b[0;31m \u001b[0;32mfrom\u001b[0m \u001b[0mdiffrax\u001b[0m \u001b[0;32mimport\u001b[0m \u001b[0mdiffeqsolve\u001b[0m\u001b[0;34m,\u001b[0m \u001b[0mODETerm\u001b[0m\u001b[0;34m,\u001b[0m \u001b[0mDopri5\u001b[0m\u001b[0;34m,\u001b[0m \u001b[0mSaveAt\u001b[0m\u001b[0;34m,\u001b[0m \u001b[0mLinearInterpolation\u001b[0m\u001b[0;34m\u001b[0m\u001b[0;34m\u001b[0m\u001b[0m\n\u001b[0m\u001b[1;32m      2\u001b[0m \u001b[0;32mfrom\u001b[0m \u001b[0mjax\u001b[0m \u001b[0;32mimport\u001b[0m \u001b[0mgrad\u001b[0m\u001b[0;34m,\u001b[0m \u001b[0mjit\u001b[0m\u001b[0;34m,\u001b[0m \u001b[0mvmap\u001b[0m\u001b[0;34m\u001b[0m\u001b[0;34m\u001b[0m\u001b[0m\n\u001b[1;32m      3\u001b[0m \u001b[0;32mimport\u001b[0m \u001b[0mjax\u001b[0m\u001b[0;34m.\u001b[0m\u001b[0mnumpy\u001b[0m \u001b[0;32mas\u001b[0m \u001b[0mnp\u001b[0m\u001b[0;34m\u001b[0m\u001b[0;34m\u001b[0m\u001b[0m\n\u001b[1;32m      4\u001b[0m \u001b[0;34m\u001b[0m\u001b[0m\n\u001b[1;32m      5\u001b[0m \u001b[0;32mimport\u001b[0m \u001b[0mmatplotlib\u001b[0m\u001b[0;34m.\u001b[0m\u001b[0mpyplot\u001b[0m \u001b[0;32mas\u001b[0m \u001b[0mplt\u001b[0m\u001b[0;34m\u001b[0m\u001b[0;34m\u001b[0m\u001b[0m\n",
      "\u001b[0;32m~/anaconda3/lib/python3.8/site-packages/diffrax/__init__.py\u001b[0m in \u001b[0;36m<module>\u001b[0;34m\u001b[0m\n\u001b[0;32m----> 1\u001b[0;31m from .adjoint import (\n\u001b[0m\u001b[1;32m      2\u001b[0m     \u001b[0mAbstractAdjoint\u001b[0m\u001b[0;34m,\u001b[0m\u001b[0;34m\u001b[0m\u001b[0;34m\u001b[0m\u001b[0m\n\u001b[1;32m      3\u001b[0m     \u001b[0mBacksolveAdjoint\u001b[0m\u001b[0;34m,\u001b[0m\u001b[0;34m\u001b[0m\u001b[0;34m\u001b[0m\u001b[0m\n\u001b[1;32m      4\u001b[0m     \u001b[0mNoAdjoint\u001b[0m\u001b[0;34m,\u001b[0m\u001b[0;34m\u001b[0m\u001b[0;34m\u001b[0m\u001b[0m\n\u001b[1;32m      5\u001b[0m     \u001b[0mRecursiveCheckpointAdjoint\u001b[0m\u001b[0;34m,\u001b[0m\u001b[0;34m\u001b[0m\u001b[0;34m\u001b[0m\u001b[0m\n",
      "\u001b[0;32m~/anaconda3/lib/python3.8/site-packages/diffrax/adjoint.py\u001b[0m in \u001b[0;36m<module>\u001b[0;34m\u001b[0m\n\u001b[1;32m      2\u001b[0m \u001b[0;32mfrom\u001b[0m \u001b[0mtyping\u001b[0m \u001b[0;32mimport\u001b[0m \u001b[0mAny\u001b[0m\u001b[0;34m,\u001b[0m \u001b[0mDict\u001b[0m\u001b[0;34m\u001b[0m\u001b[0;34m\u001b[0m\u001b[0m\n\u001b[1;32m      3\u001b[0m \u001b[0;34m\u001b[0m\u001b[0m\n\u001b[0;32m----> 4\u001b[0;31m \u001b[0;32mimport\u001b[0m \u001b[0mequinox\u001b[0m \u001b[0;32mas\u001b[0m \u001b[0meqx\u001b[0m\u001b[0;34m\u001b[0m\u001b[0;34m\u001b[0m\u001b[0m\n\u001b[0m\u001b[1;32m      5\u001b[0m \u001b[0;32mimport\u001b[0m \u001b[0mjax\u001b[0m\u001b[0;34m\u001b[0m\u001b[0;34m\u001b[0m\u001b[0m\n\u001b[1;32m      6\u001b[0m \u001b[0;32mimport\u001b[0m \u001b[0mjax\u001b[0m\u001b[0;34m.\u001b[0m\u001b[0mlax\u001b[0m \u001b[0;32mas\u001b[0m \u001b[0mlax\u001b[0m\u001b[0;34m\u001b[0m\u001b[0;34m\u001b[0m\u001b[0m\n",
      "\u001b[0;32m~/anaconda3/lib/python3.8/site-packages/equinox/__init__.py\u001b[0m in \u001b[0;36m<module>\u001b[0;34m\u001b[0m\n\u001b[0;32m----> 1\u001b[0;31m \u001b[0;32mfrom\u001b[0m \u001b[0;34m.\u001b[0m \u001b[0;32mimport\u001b[0m \u001b[0mexperimental\u001b[0m\u001b[0;34m,\u001b[0m \u001b[0mnn\u001b[0m\u001b[0;34m\u001b[0m\u001b[0;34m\u001b[0m\u001b[0m\n\u001b[0m\u001b[1;32m      2\u001b[0m from .filters import (\n\u001b[1;32m      3\u001b[0m     \u001b[0mcombine\u001b[0m\u001b[0;34m,\u001b[0m\u001b[0;34m\u001b[0m\u001b[0;34m\u001b[0m\u001b[0m\n\u001b[1;32m      4\u001b[0m     \u001b[0mfilter\u001b[0m\u001b[0;34m,\u001b[0m\u001b[0;34m\u001b[0m\u001b[0;34m\u001b[0m\u001b[0m\n\u001b[1;32m      5\u001b[0m     \u001b[0mis_array\u001b[0m\u001b[0;34m,\u001b[0m\u001b[0;34m\u001b[0m\u001b[0;34m\u001b[0m\u001b[0m\n",
      "\u001b[0;32m~/anaconda3/lib/python3.8/site-packages/equinox/experimental/__init__.py\u001b[0m in \u001b[0;36m<module>\u001b[0;34m\u001b[0m\n\u001b[0;32m----> 1\u001b[0;31m \u001b[0;32mfrom\u001b[0m \u001b[0;34m.\u001b[0m\u001b[0mbatch_norm\u001b[0m \u001b[0;32mimport\u001b[0m \u001b[0mBatchNorm\u001b[0m\u001b[0;34m\u001b[0m\u001b[0;34m\u001b[0m\u001b[0m\n\u001b[0m\u001b[1;32m      2\u001b[0m \u001b[0;32mfrom\u001b[0m \u001b[0;34m.\u001b[0m\u001b[0mspectral_norm\u001b[0m \u001b[0;32mimport\u001b[0m \u001b[0mSpectralNorm\u001b[0m\u001b[0;34m\u001b[0m\u001b[0;34m\u001b[0m\u001b[0m\n\u001b[1;32m      3\u001b[0m \u001b[0;32mfrom\u001b[0m \u001b[0;34m.\u001b[0m\u001b[0mstateful\u001b[0m \u001b[0;32mimport\u001b[0m \u001b[0mget_state\u001b[0m\u001b[0;34m,\u001b[0m \u001b[0mset_state\u001b[0m\u001b[0;34m,\u001b[0m \u001b[0mStateIndex\u001b[0m\u001b[0;34m\u001b[0m\u001b[0;34m\u001b[0m\u001b[0m\n",
      "\u001b[0;32m~/anaconda3/lib/python3.8/site-packages/equinox/experimental/batch_norm.py\u001b[0m in \u001b[0;36m<module>\u001b[0;34m\u001b[0m\n\u001b[1;32m      1\u001b[0m \u001b[0;32mfrom\u001b[0m \u001b[0mtyping\u001b[0m \u001b[0;32mimport\u001b[0m \u001b[0mOptional\u001b[0m\u001b[0;34m\u001b[0m\u001b[0;34m\u001b[0m\u001b[0m\n\u001b[1;32m      2\u001b[0m \u001b[0;34m\u001b[0m\u001b[0m\n\u001b[0;32m----> 3\u001b[0;31m \u001b[0;32mimport\u001b[0m \u001b[0mjax\u001b[0m\u001b[0;34m\u001b[0m\u001b[0;34m\u001b[0m\u001b[0m\n\u001b[0m\u001b[1;32m      4\u001b[0m \u001b[0;32mimport\u001b[0m \u001b[0mjax\u001b[0m\u001b[0;34m.\u001b[0m\u001b[0mlax\u001b[0m \u001b[0;32mas\u001b[0m \u001b[0mlax\u001b[0m\u001b[0;34m\u001b[0m\u001b[0;34m\u001b[0m\u001b[0m\n\u001b[1;32m      5\u001b[0m \u001b[0;32mimport\u001b[0m \u001b[0mjax\u001b[0m\u001b[0;34m.\u001b[0m\u001b[0mnumpy\u001b[0m \u001b[0;32mas\u001b[0m \u001b[0mjnp\u001b[0m\u001b[0;34m\u001b[0m\u001b[0;34m\u001b[0m\u001b[0m\n",
      "\u001b[0;32m~/anaconda3/lib/python3.8/site-packages/jax/__init__.py\u001b[0m in \u001b[0;36m<module>\u001b[0;34m\u001b[0m\n\u001b[1;32m     35\u001b[0m \u001b[0;31m# We want the exported object to be the class, so we first import the module\u001b[0m\u001b[0;34m\u001b[0m\u001b[0;34m\u001b[0m\u001b[0;34m\u001b[0m\u001b[0m\n\u001b[1;32m     36\u001b[0m \u001b[0;31m# to make sure a later import doesn't overwrite the class.\u001b[0m\u001b[0;34m\u001b[0m\u001b[0;34m\u001b[0m\u001b[0;34m\u001b[0m\u001b[0m\n\u001b[0;32m---> 37\u001b[0;31m \u001b[0;32mfrom\u001b[0m \u001b[0;34m.\u001b[0m \u001b[0;32mimport\u001b[0m \u001b[0mconfig\u001b[0m \u001b[0;32mas\u001b[0m \u001b[0m_config_module\u001b[0m\u001b[0;34m\u001b[0m\u001b[0;34m\u001b[0m\u001b[0m\n\u001b[0m\u001b[1;32m     38\u001b[0m \u001b[0;32mdel\u001b[0m \u001b[0m_config_module\u001b[0m\u001b[0;34m\u001b[0m\u001b[0;34m\u001b[0m\u001b[0m\n\u001b[1;32m     39\u001b[0m \u001b[0;34m\u001b[0m\u001b[0m\n",
      "\u001b[0;32m~/anaconda3/lib/python3.8/site-packages/jax/config.py\u001b[0m in \u001b[0;36m<module>\u001b[0;34m\u001b[0m\n\u001b[1;32m     16\u001b[0m \u001b[0;34m\u001b[0m\u001b[0m\n\u001b[1;32m     17\u001b[0m \u001b[0;31m# flake8: noqa: F401\u001b[0m\u001b[0;34m\u001b[0m\u001b[0;34m\u001b[0m\u001b[0;34m\u001b[0m\u001b[0m\n\u001b[0;32m---> 18\u001b[0;31m \u001b[0;32mfrom\u001b[0m \u001b[0mjax\u001b[0m\u001b[0;34m.\u001b[0m\u001b[0m_src\u001b[0m\u001b[0;34m.\u001b[0m\u001b[0mconfig\u001b[0m \u001b[0;32mimport\u001b[0m \u001b[0mconfig\u001b[0m\u001b[0;34m\u001b[0m\u001b[0;34m\u001b[0m\u001b[0m\n\u001b[0m",
      "\u001b[0;32m~/anaconda3/lib/python3.8/site-packages/jax/_src/config.py\u001b[0m in \u001b[0;36m<module>\u001b[0;34m\u001b[0m\n\u001b[1;32m     25\u001b[0m \u001b[0;32mimport\u001b[0m \u001b[0mwarnings\u001b[0m\u001b[0;34m\u001b[0m\u001b[0;34m\u001b[0m\u001b[0m\n\u001b[1;32m     26\u001b[0m \u001b[0;34m\u001b[0m\u001b[0m\n\u001b[0;32m---> 27\u001b[0;31m \u001b[0;32mfrom\u001b[0m \u001b[0mjax\u001b[0m\u001b[0;34m.\u001b[0m\u001b[0m_src\u001b[0m \u001b[0;32mimport\u001b[0m \u001b[0mlib\u001b[0m\u001b[0;34m\u001b[0m\u001b[0;34m\u001b[0m\u001b[0m\n\u001b[0m\u001b[1;32m     28\u001b[0m \u001b[0;32mfrom\u001b[0m \u001b[0mjax\u001b[0m\u001b[0;34m.\u001b[0m\u001b[0m_src\u001b[0m\u001b[0;34m.\u001b[0m\u001b[0mlib\u001b[0m \u001b[0;32mimport\u001b[0m \u001b[0mjax_jit\u001b[0m\u001b[0;34m\u001b[0m\u001b[0;34m\u001b[0m\u001b[0m\n\u001b[1;32m     29\u001b[0m \u001b[0;34m\u001b[0m\u001b[0m\n",
      "\u001b[0;32m~/anaconda3/lib/python3.8/site-packages/jax/_src/lib/__init__.py\u001b[0m in \u001b[0;36m<module>\u001b[0;34m\u001b[0m\n\u001b[1;32m     74\u001b[0m \u001b[0;32mfrom\u001b[0m \u001b[0mjaxlib\u001b[0m \u001b[0;32mimport\u001b[0m \u001b[0mxla_client\u001b[0m\u001b[0;34m\u001b[0m\u001b[0;34m\u001b[0m\u001b[0m\n\u001b[1;32m     75\u001b[0m \u001b[0;32mfrom\u001b[0m \u001b[0mjaxlib\u001b[0m \u001b[0;32mimport\u001b[0m \u001b[0mlapack\u001b[0m\u001b[0;34m\u001b[0m\u001b[0;34m\u001b[0m\u001b[0m\n\u001b[0;32m---> 76\u001b[0;31m \u001b[0;32mfrom\u001b[0m \u001b[0mjaxlib\u001b[0m \u001b[0;32mimport\u001b[0m \u001b[0mpocketfft\u001b[0m\u001b[0;34m\u001b[0m\u001b[0;34m\u001b[0m\u001b[0m\n\u001b[0m\u001b[1;32m     77\u001b[0m \u001b[0;34m\u001b[0m\u001b[0m\n\u001b[1;32m     78\u001b[0m \u001b[0mxla_extension\u001b[0m \u001b[0;34m=\u001b[0m \u001b[0mxla_client\u001b[0m\u001b[0;34m.\u001b[0m\u001b[0m_xla\u001b[0m\u001b[0;34m\u001b[0m\u001b[0;34m\u001b[0m\u001b[0m\n",
      "\u001b[0;31mImportError\u001b[0m: cannot import name 'pocketfft' from 'jaxlib' (/Users/chaosdonkey06/anaconda3/lib/python3.8/site-packages/jaxlib/__init__.py)"
     ]
    }
   ],
   "source": [
    "from diffrax import diffeqsolve, ODETerm, Dopri5, SaveAt, LinearInterpolation\n",
    "from jax import grad, jit, vmap\n",
    "import jax.numpy as np\n",
    "\n",
    "import matplotlib.pyplot as plt\n"
   ]
  },
  {
   "cell_type": "code",
   "execution_count": null,
   "metadata": {},
   "outputs": [],
   "source": [
    "\n",
    "def influenza_model(t, x, R0, args=None):\n",
    "    s, i, r = x\n",
    "\n",
    "    L = 40 # Duration of immunity - weeks\n",
    "    D = 1  # Duration of infectiousness - week\n",
    "    μ = 1 / (50 * 52) # Birth/death rate - 1 / (years * weeks)\n",
    "    N = 1  # Population size\n",
    "\n",
    "    β = R0 * D\n",
    "    λ = β * i / N\n",
    "\n",
    "    sdot = r / L + μ * (N - s) - λ * s\n",
    "    idot = λ * s - i / D - μ * i\n",
    "    rdot = i / D - r / L - μ * r\n",
    "\n",
    "    return np.array([sdot, idot, rdot])\n",
    "\n",
    "\n",
    "qsim  = lambda wk: np.maximum((0.006/2) * np.sin(2*np.pi*wk/52 + 10.5) + 0.006, 0) # authors absolute humidity\n",
    "R0min = 1.2\n",
    "R0max = 3\n",
    "\n",
    "num_years = 21\n",
    "t_max     = 52 * num_years      # simulate for 10 years\n",
    "tsim      = np.arange(0, t_max+1) # list of weeks to simulate\n",
    "\n",
    "rnot      = np.exp(-180 * qsim(tsim) + np.log(R0max - R0min)) + R0min\n",
    "R0        = LinearInterpolation(ts=tsim, ys=rnot)\n",
    "\n",
    "model  = lambda t, x, args: influenza_model(t, x, R0.evaluate(t))\n",
    "saveat = SaveAt(ts=tsim)\n",
    "\n",
    "term   = ODETerm(model)\n",
    "solver = Dopri5()\n",
    "\n",
    "y0       = np.array([0.19, 0.01, 0.8])\n",
    "solution = diffeqsolve(term, solver, t0=0, t1=t_max, saveat=saveat, dt0=1, y0=y0)\n"
   ]
  },
  {
   "cell_type": "code",
   "execution_count": null,
   "metadata": {},
   "outputs": [],
   "source": [
    "import pandas as pd\n",
    "\n",
    "s, i, r  = solution.ys[52*2:, :].T\n",
    "time_sim = solution.ts[52*2:]\n",
    "\n",
    "dates = pd.date_range(start='2016-01-01', periods=len(time_sim), freq='W')\n",
    "\n",
    "reff = R0.evaluate(time_sim) * s\n",
    "\n",
    "fig, ax = plt.subplots(3, 1, figsize=(9.5, 7.2), sharex=True)\n",
    "ax[0].plot(dates, reff, label=r'$R_{eff}$', color='g', lw=2)\n",
    "ax[1].plot(dates, s, label='I', color='blue', lw=2)\n",
    "ax[2].plot(dates, i, label='I', color='k', lw=2)\n",
    "\n",
    "for axi in ax.flatten():\n",
    "    axi.spines['right'].set_visible(False)\n",
    "    axi.spines['top'].set_visible(False)\n",
    "    axi.spines['bottom'].set_visible(False)\n",
    "\n",
    "ax[-1].spines['bottom'].set_visible(True)\n",
    "ax[0].set_ylabel(r\"$R_{{eff}}$\")\n",
    "ax[1].set_ylabel(r\"S/N\")\n",
    "ax[2].set_ylabel(r\"I/N\")\n",
    "\n",
    "plt.suptitle(\"Without NPI\")\n",
    "plt.tight_layout()\n"
   ]
  },
  {
   "attachments": {},
   "cell_type": "markdown",
   "metadata": {},
   "source": [
    "Here, I just runned the model without any control/NPIs imposed during 2020 or after and it's easy to see the dynamics are oscillating due to the seasonal forcing imposed by the sinusodial form of the absolute humidity that looks like a limit cycle.\n",
    "Below I plotted the phase plane in using the susceptibility S/N and the fraction of infected people I/N and color coded the date showing that the system is on one stable attractor."
   ]
  },
  {
   "cell_type": "code",
   "execution_count": null,
   "metadata": {},
   "outputs": [],
   "source": [
    "fig, ax = plt.subplots(1, 1, figsize=(9.5, 7.2))\n",
    "ax.plot(s, i, color='k', lw=0.5, alpha=0.4)\n",
    "lc = ax.scatter(s, i, c=dates, cmap=\"winter\", lw=2)\n",
    "ax.set_xlabel(\"S/N\")\n",
    "ax.set_ylabel(\"I/N\")\n",
    "plt.colorbar(lc)"
   ]
  },
  {
   "cell_type": "code",
   "execution_count": null,
   "metadata": {},
   "outputs": [],
   "source": [
    "# adding NPIs\n",
    "\n",
    "\n",
    "num_years = 21\n",
    "t_max     = 52 * num_years      # simulate for 10 years\n",
    "tsim      = np.arange(0, t_max+1) # list of weeks to simulate\n",
    "\n",
    "rnot      = np.exp(-180 * qsim(tsim) + np.log(R0max - R0min)) + R0min\n",
    "\n",
    "\n",
    "# first set of NPIs\n",
    "npi_start1  = 52 * 6 + 11\n",
    "npi_end1    = 52 * 6 + 11 + 52\n",
    "betachange  = 0.8\n",
    "rnot        = rnot.at[npi_start1:npi_end1].set(rnot[npi_start1:npi_end1] * betachange)\n",
    "\n",
    "# second set of NPIs\n",
    "npi_start2  = 52 * 6 + 11 + 104\n",
    "betachange  = 0.8\n",
    "rnot        = rnot.at[npi_start2:].set(rnot[npi_start2:] * betachange)\n",
    "\n",
    "R0     = LinearInterpolation(ts=tsim, ys=rnot)\n",
    "\n",
    "model  = lambda t, x, args: influenza_model(t, x, R0.evaluate(t))\n",
    "saveat = SaveAt(ts=tsim)\n",
    "\n",
    "term   = ODETerm(model)\n",
    "solver = Dopri5()\n",
    "\n",
    "y0       = np.array([0.19, 0.01, 0.8])\n",
    "solution = diffeqsolve(term, solver, t0=0, t1=t_max, saveat=saveat, dt0=1, y0=y0)"
   ]
  },
  {
   "cell_type": "code",
   "execution_count": null,
   "metadata": {},
   "outputs": [],
   "source": [
    "from matplotlib.patches import Rectangle, Polygon\n",
    "import pandas as pd\n",
    "import numpy as onp\n",
    "\n",
    "s, i, r  = solution.ys[52*2:, :].T\n",
    "time_sim = solution.ts[52*2:]\n",
    "\n",
    "dates = pd.date_range(start='2016-01-01', periods=len(time_sim), freq='W')\n",
    "\n",
    "reff = R0.evaluate(time_sim) * s\n",
    "\n",
    "fig, ax = plt.subplots(3, 1, figsize=(9.5, 7.2), sharex=True)\n",
    "ax[0].plot(dates, reff, label=r'$R_{eff}$', color='g', lw=2)\n",
    "ax[1].plot(dates, s, label='I', color='blue', lw=2)\n",
    "ax[2].plot(dates, i, label='I', color='k', lw=2)\n",
    "\n",
    "dates_num = pd.to_numeric(dates)+1\n",
    "\n",
    "a_start   = npi_start1  - 52*2  + float(dates_num[0])\n",
    "a_end     = npi_end1    - 52*2  + float(dates_num[0])\n",
    "\n",
    "a1 = pd.to_datetime(0)\n",
    "a  = pd.to_datetime(\"2020-03-01\")-a1; a=a.days\n",
    "b  = pd.to_datetime(\"2021-03-01\")-a1; b=b.days\n",
    "\n",
    "ix = np.linspace(a, b)\n",
    "iy = 0.1*np.ones((ix.shape[0]))\n",
    "verts  = [(a, 0), *zip(ix, iy), (b, 0)]\n",
    "\n",
    "poly = Polygon(verts, facecolor='0.8', edgecolor=None)\n",
    "ax[2].add_patch(poly)\n",
    "\n",
    "\n",
    "a1 = pd.to_datetime(0)\n",
    "a  = pd.to_datetime(\"2023-01-01\")-a1; a=a.days\n",
    "b  = pd.to_datetime(\"2035-03-01\")-a1; b=b.days\n",
    "\n",
    "ix = np.linspace(a, b)\n",
    "iy = 0.1*np.ones((ix.shape[0]))\n",
    "verts  = [(a, 0), *zip(ix, iy), (b, 0)]\n",
    "\n",
    "poly = Polygon(verts, facecolor='0.8', edgecolor=None)\n",
    "ax[2].add_patch(poly)\n",
    "\n",
    "for axi in ax.flatten():\n",
    "    axi.spines['right'].set_visible(False)\n",
    "    axi.spines['top'].set_visible(False)\n",
    "    axi.spines['bottom'].set_visible(False)\n",
    "\n",
    "ax[-1].spines['bottom'].set_visible(True)\n",
    "ax[0].set_ylabel(r\"$R_{{eff}}$\")\n",
    "ax[1].set_ylabel(r\"S/N\")\n",
    "ax[2].set_ylabel(r\"I/N\")\n",
    "\n",
    "plt.suptitle(\"NPIs\")\n"
   ]
  },
  {
   "cell_type": "markdown",
   "metadata": {},
   "source": [
    "The authors first impose one year of restrictions starting in march of 2020 that reduce transmission by a 20%, followed by two years without restrictions and a second round of restrictions starting in 2023 that reduce transmission by 20%. The authors then simulate the model for 21 years and plot the results that last forever.\n",
    "As seen in Figure above there's an increase in susceptibility after the NPIs of 2020 and then as consequence of the second set of NPIs the system start oscillating around a new equilibrium with higher susceptibility and lower prevalence of infection I/N. Below is showed the phase plane "
   ]
  },
  {
   "cell_type": "code",
   "execution_count": null,
   "metadata": {},
   "outputs": [],
   "source": [
    "fig, ax = plt.subplots(1, 1, figsize=(9.5, 7.2))\n",
    "ax.plot(s, i, color='k', lw=0.5, alpha=0.2)\n",
    "lc = ax.scatter(s, i, c=dates, cmap=\"winter\", lw=2)\n",
    "ax.set_xlabel(\"S/N\")\n",
    "ax.set_ylabel(\"I/N\")\n",
    "plt.colorbar(lc)\n"
   ]
  },
  {
   "cell_type": "code",
   "execution_count": null,
   "metadata": {},
   "outputs": [],
   "source": [
    "fig, ax = plt.subplots(1, 1, figsize=(9.5, 7.2))\n",
    "ax.plot(reff, i, color='k', lw=0.5, alpha=0.2)\n",
    "lc = ax.scatter(reff, i, c=dates, cmap=\"winter\", lw=2)\n",
    "ax.set_xlabel(\"$\\mathcal{R}_{{eff}}$\")\n",
    "ax.set_ylabel(\"I/N\")\n",
    "plt.colorbar(lc)\n"
   ]
  },
  {
   "attachments": {},
   "cell_type": "markdown",
   "metadata": {},
   "source": [
    "## Steady state analysis.\n",
    "\n",
    "After, the RSV analysis (not shown here), they theoretically compare what would happen to the steady state of the SIRS model. First, they show that the $\\mathcal{R}_0$ is the same for both the SIR and the SIRS model (see chunk below). But basically the eigenvalues of the Jacobian (linearized system) around the disease free equilibrium (DFE) requires that i) $\\mathcal{R}_0=\\frac{\\beta}{\\gamma + \\mu}<0$ and $\\omega < \\mu$. The last condition is always true as the time scale of immune waning ($1/\\omega$) is much more shorter than the time scales life expectancy ($1/\\mu$).\n",
    "\n",
    "Which makes the $\\mathcal{R}_0$ non-dependant on $\\omega$. The steady state non-DFE is shown below\n",
    "\n",
    "$$\\bar{S}=\\frac{N \\left(\\gamma + \\mu\\right)}{\\beta}$$\n",
    "$$\\bar{I}=\\frac{N \\left(\\beta \\mu  + \\omega(\\mu+\\gamma)  - \\mu(\\mu + \\gamma) \\right)}{\\beta \\left(\\gamma + \\mu\\right)}$$\n",
    "\n",
    "We a little of algebra we have\n",
    "$$\\bar{S}=\\frac{N}{\\mathcal{R}_0}$$\n",
    "$$\\bar{I}=N \\left(\\frac{\\mu}{\\beta}\\mathcal{R}_0 + \\frac{\\omega}{(\\gamma+\\mu)}\\frac{1}{\\mathcal{R}_0} + \\frac{\\mu}{(\\gamma+\\mu)}\\frac{1}{\\mathcal{R}_0} \\right)$$"
   ]
  },
  {
   "cell_type": "code",
   "execution_count": 60,
   "metadata": {},
   "outputs": [],
   "source": [
    "from sympy import Eq, solve, simplify, collect, latex\n",
    "import sympy\n",
    "\n",
    "\n",
    "beta, gamma, omega, mu, N = sympy.symbols('beta gamma omega mu N')\n",
    "s, i, r                   = sympy.symbols('s i r')\n",
    "\n",
    "model = sympy.Matrix([mu*N - beta * s * i / N - mu * s + omega * s, beta * s * i / N - gamma * i - mu * i, gamma * i - mu * r - omega * s])\n"
   ]
  },
  {
   "cell_type": "code",
   "execution_count": 63,
   "metadata": {},
   "outputs": [
    {
     "name": "stdout",
     "output_type": "stream",
     "text": [
      "\\frac{N \\left(\\gamma + \\mu\\right)}{\\beta}\n",
      "\\frac{N \\left(\\beta \\mu - \\gamma \\mu + \\gamma \\omega - \\mu^{2} + \\mu \\omega\\right)}{\\beta \\left(\\gamma + \\mu\\right)}\n",
      "\\frac{N \\left(\\beta \\gamma - \\gamma^{2} - \\gamma \\mu - \\gamma \\omega - \\mu \\omega\\right)}{\\beta \\left(\\gamma + \\mu\\right)}\n"
     ]
    }
   ],
   "source": [
    "eq           = [Eq(model[0], 0), Eq(model[1], 0), Eq(model[2], 0)]\n",
    "equilibrium  = solve(eq, s, i, r)\n",
    "\n",
    "print(latex(collect(simplify(equilibrium[0][0]), (beta/(mu+gamma)))))\n",
    "print(latex(collect(simplify(equilibrium[0][1]), (beta/(mu+gamma)))))\n",
    "print(latex(collect(simplify(equilibrium[0][2]), (beta/(mu+gamma)))))"
   ]
  },
  {
   "cell_type": "code",
   "execution_count": 51,
   "metadata": {},
   "outputs": [
    {
     "name": "stdout",
     "output_type": "stream",
     "text": [
      "{beta - gamma - mu: 1, -mu + omega: 1, -mu: 1}\n"
     ]
    }
   ],
   "source": [
    "jac        = model.jacobian([s, i, r])\n",
    "jac_DFE    = jac.evalf(subs={s: N, i: 0, r: 0})\n",
    "eigen_vals = jac_DFE.eigenvals()\n",
    "\n",
    "print(eigen_vals)\n"
   ]
  },
  {
   "cell_type": "code",
   "execution_count": null,
   "metadata": {},
   "outputs": [],
   "source": [
    "\n",
    "def sirs(x, t, p):\n",
    "    s, i, r = x\n",
    "\n",
    "    β = p[\"beta\"]\n",
    "    γ = p[\"gamma\"]\n",
    "    ω = p[\"omega\"]\n",
    "    μ = p[\"mu\"]\n",
    "    N = p[\"N\"]\n",
    "\n",
    "    λ = β * i / N\n",
    "\n",
    "    births  = μ * N\n",
    "    s2death = μ * s\n",
    "    i2death = μ * i\n",
    "    r2death = μ * r\n",
    "\n",
    "    s2i = λ * s\n",
    "    i2r = γ * i\n",
    "    r2s = ω * r\n",
    "\n",
    "    sdot = -s2i + r2s - s2death + births\n",
    "    idot = s2i  - i2r - i2death\n",
    "    rdot = i2r  - r2s - r2death\n",
    "\n",
    "    return np.array([sdot, idot, rdot])\n"
   ]
  },
  {
   "cell_type": "code",
   "execution_count": null,
   "metadata": {},
   "outputs": [],
   "source": []
  }
 ],
 "metadata": {
  "kernelspec": {
   "display_name": "Python (POMPJAX)",
   "language": "python",
   "name": "pompjax"
  },
  "language_info": {
   "codemirror_mode": {
    "name": "ipython",
    "version": 3
   },
   "file_extension": ".py",
   "mimetype": "text/x-python",
   "name": "python",
   "nbconvert_exporter": "python",
   "pygments_lexer": "ipython3",
   "version": "3.8.13"
  },
  "orig_nbformat": 4,
  "vscode": {
   "interpreter": {
    "hash": "574dadffd7a64c0fd8dffb1c55414219139ca02322c8f7cd93c896672936a7f7"
   }
  }
 },
 "nbformat": 4,
 "nbformat_minor": 2
}
